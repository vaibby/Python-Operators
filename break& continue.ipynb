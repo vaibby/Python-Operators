{
 "cells": [
  {
   "cell_type": "markdown",
   "id": "416a5cb6-de73-4c63-b083-a08299e07c14",
   "metadata": {},
   "source": [
    "1.Print numbers from 1 to 10 but stop if the number is 5"
   ]
  },
  {
   "cell_type": "code",
   "execution_count": 3,
   "id": "614f847d-88f6-4596-87d0-bdff15d8db1f",
   "metadata": {},
   "outputs": [
    {
     "name": "stdout",
     "output_type": "stream",
     "text": [
      "1\n",
      "2\n",
      "3\n",
      "4\n",
      "\n",
      "\n"
     ]
    }
   ],
   "source": [
    "for num in range(1, 11):\n",
    "    if num == 5:\n",
    "        break\n",
    "    print(num)\n",
    "\n",
    "print(\"\\n\")\n"
   ]
  },
  {
   "cell_type": "markdown",
   "id": "78001c1b-a38d-491c-a957-b3863f96e57e",
   "metadata": {},
   "source": [
    "2. Iterate through a list and stop when encountering a specific element"
   ]
  },
  {
   "cell_type": "code",
   "execution_count": 5,
   "id": "c54eb74b-4b38-42a9-917d-f3d85ef31c7b",
   "metadata": {},
   "outputs": [
    {
     "name": "stdout",
     "output_type": "stream",
     "text": [
      "10\n",
      "20\n",
      "30\n",
      "\n",
      "\n"
     ]
    }
   ],
   "source": [
    "numbers = [10, 20, 30, 40, 50, 60]\n",
    "stop_element = 40\n",
    "for num in numbers:\n",
    "    if num == stop_element:\n",
    "        break\n",
    "    print(num)\n",
    "\n",
    "print(\"\\n\")"
   ]
  },
  {
   "cell_type": "markdown",
   "id": "91623a63-6197-4810-87df-8f049d3af1be",
   "metadata": {},
   "source": [
    "3.Skip printing even numbers from 1 to 10"
   ]
  },
  {
   "cell_type": "code",
   "execution_count": 1,
   "id": "38855faf-d122-4d3f-be92-3fb704b6446a",
   "metadata": {},
   "outputs": [
    {
     "name": "stdout",
     "output_type": "stream",
     "text": [
      "1\n",
      "3\n",
      "5\n",
      "7\n",
      "9\n",
      "\n",
      "\n"
     ]
    }
   ],
   "source": [
    "for i in range(1, 11):\n",
    "    if i % 2 == 0:\n",
    "        continue\n",
    "    print(i)\n",
    "print(\"\\n\")"
   ]
  },
  {
   "cell_type": "markdown",
   "id": "e942d2db-1104-4342-9d47-29a38d260f4e",
   "metadata": {},
   "source": [
    "4. Print numbers from 0 to 9 using range()"
   ]
  },
  {
   "cell_type": "code",
   "execution_count": 2,
   "id": "b864906d-616c-467d-85f4-1e2f802e6013",
   "metadata": {},
   "outputs": [
    {
     "name": "stdout",
     "output_type": "stream",
     "text": [
      "0\n",
      "1\n",
      "2\n",
      "3\n",
      "4\n",
      "5\n",
      "6\n",
      "7\n",
      "8\n",
      "9\n",
      "\n",
      "\n"
     ]
    }
   ],
   "source": [
    "for i in range(10):\n",
    "    print(i)\n",
    "print(\"\\n\")"
   ]
  },
  {
   "cell_type": "markdown",
   "id": "fd28b775-72c9-4cd0-8604-34766073065d",
   "metadata": {},
   "source": [
    "5. Print multiplication tables from 1 to 5 but stop after first table for each number"
   ]
  },
  {
   "cell_type": "code",
   "execution_count": 4,
   "id": "78ae9412-267b-4476-9f3f-eef0f5aeb568",
   "metadata": {},
   "outputs": [
    {
     "name": "stdout",
     "output_type": "stream",
     "text": [
      "Multiplication table of 1:\n",
      "1\n",
      "Multiplication table of 2:\n",
      "2\n",
      "Multiplication table of 3:\n",
      "3\n",
      "Multiplication table of 4:\n",
      "4\n",
      "Multiplication table of 5:\n",
      "5\n",
      "\n",
      "\n"
     ]
    }
   ],
   "source": [
    "for i in range(1, 6):\n",
    "    print(f\"Multiplication table of {i}:\")\n",
    "    print(i * 1)\n",
    "print(\"\\n\")"
   ]
  },
  {
   "cell_type": "markdown",
   "id": "e31e3d78-fa4d-471a-a403-6b88d1f2a3ba",
   "metadata": {},
   "source": [
    "6. Skip printing even numbers using a while loop"
   ]
  },
  {
   "cell_type": "code",
   "execution_count": 5,
   "id": "5e24b950-0553-4d04-b331-18c244d72dff",
   "metadata": {},
   "outputs": [
    {
     "name": "stdout",
     "output_type": "stream",
     "text": [
      "1\n",
      "3\n",
      "5\n",
      "7\n",
      "9\n"
     ]
    }
   ],
   "source": [
    "num = 1\n",
    "while num <= 10:\n",
    "    if num % 2 == 0:\n",
    "        num += 1\n",
    "        continue\n",
    "    print(num)\n",
    "    num += 1\n",
    "    "
   ]
  }
 ],
 "metadata": {
  "kernelspec": {
   "display_name": "Python 3 (ipykernel)",
   "language": "python",
   "name": "python3"
  },
  "language_info": {
   "codemirror_mode": {
    "name": "ipython",
    "version": 3
   },
   "file_extension": ".py",
   "mimetype": "text/x-python",
   "name": "python",
   "nbconvert_exporter": "python",
   "pygments_lexer": "ipython3",
   "version": "3.12.8"
  }
 },
 "nbformat": 4,
 "nbformat_minor": 5
}
