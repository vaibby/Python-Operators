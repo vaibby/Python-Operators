{
 "cells": [
  {
   "cell_type": "markdown",
   "id": "9b6e69c3-9dcf-46cc-8b2b-d9d02aa4ae18",
   "metadata": {},
   "source": [
    "1 .Calculate the sum, difference, product, and quotient of two numbers."
   ]
  },
  {
   "cell_type": "code",
   "execution_count": 3,
   "id": "837f2dd4-8194-4be8-8a3f-613b6aadaa7f",
   "metadata": {},
   "outputs": [
    {
     "name": "stdout",
     "output_type": "stream",
     "text": [
      "Sum: 15\n",
      "diffrence: 5\n",
      "product: 50\n",
      "quotient 2.0\n"
     ]
    }
   ],
   "source": [
    "a = 5\n",
    "b = 10\n",
    "sum_result = (a+b)\n",
    "diff_result = (b-a)\n",
    "prod_result = (a*b)\n",
    "quot_result = (b/a)\n",
    "\n",
    "print(\"Sum:\", sum_result)\n",
    "print(\"diffrence:\", diff_result)\n",
    "print(\"product:\", prod_result)\n",
    "print(\"quotient\", quot_result)"
   ]
  },
  {
   "cell_type": "markdown",
   "id": "11439811-d3e0-45a7-acd3-d7246c6a8e23",
   "metadata": {},
   "source": [
    "2. Perform various assignment operations on a variable."
   ]
  },
  {
   "cell_type": "code",
   "execution_count": 4,
   "id": "d6fb5a59-82ba-4c0d-a2b0-b06725b9b000",
   "metadata": {},
   "outputs": [
    {
     "name": "stdout",
     "output_type": "stream",
     "text": [
      "Final value of x: 19.5\n"
     ]
    }
   ],
   "source": [
    "x = 10\n",
    "x += 5\n",
    "x -= 2\n",
    "x *= 3\n",
    "x /= 2\n",
    "\n",
    "print(\"Final value of x:\", x)"
   ]
  },
  {
   "cell_type": "markdown",
   "id": "5c032fc3-b4ee-4716-a781-3c90a3cab19e",
   "metadata": {},
   "source": [
    "3. Compare two numbers and print the results."
   ]
  },
  {
   "cell_type": "code",
   "execution_count": 9,
   "id": "1277acf2-cbe0-49f2-90da-735dafc377a4",
   "metadata": {},
   "outputs": [
    {
     "name": "stdin",
     "output_type": "stream",
     "text": [
      "enter first no: 5\n",
      "enter second no: 8\n"
     ]
    },
    {
     "name": "stdout",
     "output_type": "stream",
     "text": [
      "a > b: False\n",
      "a < b: True\n",
      "a == b: False\n",
      "a != b: True\n"
     ]
    }
   ],
   "source": [
    "a= int(input (\"enter first no:\"))\n",
    "b = int(input (\"enter second no:\" ))\n",
    "print(\"a > b:\", a > b)\n",
    "print(\"a < b:\", a < b)\n",
    "print(\"a == b:\", a == b)\n",
    "print(\"a != b:\", a != b)"
   ]
  },
  {
   "cell_type": "markdown",
   "id": "a36fda84-5600-4591-9133-30a8db0e4ff3",
   "metadata": {},
   "source": [
    "4. Check conditions using logical operators."
   ]
  },
  {
   "cell_type": "code",
   "execution_count": 11,
   "id": "3e981a59-9272-40a3-bf55-afc7a2a7f609",
   "metadata": {},
   "outputs": [
    {
     "name": "stdin",
     "output_type": "stream",
     "text": [
      "enter 1st no 10 \n",
      "enter 2nd no 2\n"
     ]
    },
    {
     "name": "stdout",
     "output_type": "stream",
     "text": [
      "a > 0 and b > 0: True\n",
      "a > 0 or b < 0: True\n",
      "not (a < 0): True\n"
     ]
    }
   ],
   "source": [
    "a= int(input(\"enter 1st no\"))\n",
    "b= int(input(\"enter 2nd no\"))\n",
    "print(\"a > 0 and b > 0:\", a > 0 and b > 0)\n",
    "print(\"a > 0 or b < 0:\", a > 0 or b < 0)\n",
    "print(\"not (a < 0):\", not (a < 0))"
   ]
  },
  {
   "cell_type": "markdown",
   "id": "7416f912-83e0-4cc9-9d5a-f90fd347ccf9",
   "metadata": {},
   "source": [
    "5. Check the identity of variables."
   ]
  },
  {
   "cell_type": "code",
   "execution_count": 12,
   "id": "17d8a6d4-757d-4d86-a5a0-cd5d6b3ef640",
   "metadata": {},
   "outputs": [
    {
     "name": "stdout",
     "output_type": "stream",
     "text": [
      "y is z: True\n",
      "y is not z: False\n"
     ]
    }
   ],
   "source": [
    "y = 10\n",
    "z = 10\n",
    "print(\"y is z:\", y is z)\n",
    "print(\"y is not z:\", y is not z)"
   ]
  },
  {
   "cell_type": "markdown",
   "id": "f894820f-3085-467c-8927-b4f3df3d4763",
   "metadata": {},
   "source": [
    "6. Perform bitwise operations on any two integers.\n"
   ]
  },
  {
   "cell_type": "code",
   "execution_count": 14,
   "id": "888f9aef-e0c9-415d-afa9-72745500ca27",
   "metadata": {},
   "outputs": [
    {
     "name": "stdout",
     "output_type": "stream",
     "text": [
      "Bitwise AND: 2\n",
      "Bitwise OR: 7\n",
      "Bitwise XOR: 5\n",
      "Bitwise NOT of p: -7\n"
     ]
    }
   ],
   "source": [
    "p = 6\n",
    "q= 3\n",
    "print(\"Bitwise AND:\", p & q)\n",
    "print(\"Bitwise OR:\", p | q)\n",
    "print(\"Bitwise XOR:\", p ^ q)\n",
    "print(\"Bitwise NOT of p:\", ~p)"
   ]
  },
  {
   "cell_type": "markdown",
   "id": "cfd3d76a-62d4-4131-8a9f-82b2e706e5b8",
   "metadata": {},
   "source": [
    "7. Use unary operators to change the sign of a number."
   ]
  },
  {
   "cell_type": "code",
   "execution_count": 15,
   "id": "b455f45a-ce19-4fe6-baa4-0ba8cf1a8c85",
   "metadata": {},
   "outputs": [
    {
     "name": "stdout",
     "output_type": "stream",
     "text": [
      "Unary negation: -10\n"
     ]
    }
   ],
   "source": [
    "num = 10\n",
    "num = -num\n",
    "print(\"Unary negation:\", num)"
   ]
  },
  {
   "cell_type": "markdown",
   "id": "4b85cbd1-d522-4177-b6f0-68ff611d9cf3",
   "metadata": {},
   "source": [
    "8. Use the ternary operator to assign values based on conditions."
   ]
  },
  {
   "cell_type": "code",
   "execution_count": 17,
   "id": "a54fec35-06b2-4d08-aea8-474c73a0268a",
   "metadata": {},
   "outputs": [
    {
     "name": "stdout",
     "output_type": "stream",
     "text": [
      "Max number: 10\n"
     ]
    }
   ],
   "source": [
    "a = 5\n",
    "b= 10\n",
    "max_num = a if a > b else b\n",
    "print(\"Max number:\", max_num)"
   ]
  },
  {
   "cell_type": "code",
   "execution_count": null,
   "id": "d5c6bdc3-66a4-4019-827d-bc489368c79e",
   "metadata": {},
   "outputs": [],
   "source": []
  }
 ],
 "metadata": {
  "kernelspec": {
   "display_name": "Python 3 (ipykernel)",
   "language": "python",
   "name": "python3"
  },
  "language_info": {
   "codemirror_mode": {
    "name": "ipython",
    "version": 3
   },
   "file_extension": ".py",
   "mimetype": "text/x-python",
   "name": "python",
   "nbconvert_exporter": "python",
   "pygments_lexer": "ipython3",
   "version": "3.12.8"
  }
 },
 "nbformat": 4,
 "nbformat_minor": 5
}
