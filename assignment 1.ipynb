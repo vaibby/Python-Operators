{
 "cells": [
  {
   "cell_type": "markdown",
   "id": "573da4ae-8773-42a8-9659-40cbc9569fea",
   "metadata": {},
   "source": [
    "1.Convert an integer to a floating-point number."
   ]
  },
  {
   "cell_type": "code",
   "execution_count": 3,
   "id": "52b5eb91-e04d-45b9-90b0-52e562fcd2a1",
   "metadata": {},
   "outputs": [
    {
     "name": "stdout",
     "output_type": "stream",
     "text": [
      "5.0\n",
      "<class 'float'>\n"
     ]
    }
   ],
   "source": [
    "num = 5\n",
    "float_num = float(num)\n",
    "print(float_num)\n",
    "print(type(float_num))"
   ]
  },
  {
   "cell_type": "markdown",
   "id": "c6a7dedf-dbb3-41d8-bd91-bd551b199d9e",
   "metadata": {},
   "source": [
    "2. Convert a float to an integer."
   ]
  },
  {
   "cell_type": "code",
   "execution_count": 4,
   "id": "1b06eec4-bb86-4cdb-a8c2-7eec382db641",
   "metadata": {},
   "outputs": [
    {
     "name": "stdout",
     "output_type": "stream",
     "text": [
      "10\n",
      "<class 'int'>\n"
     ]
    }
   ],
   "source": [
    "float_num = 10.0\n",
    "int_num = int(float_num)\n",
    "print(int_num)\n",
    "print(type(int_num))"
   ]
  },
  {
   "cell_type": "markdown",
   "id": "475a0917-df25-4315-a7f8-527816653a5d",
   "metadata": {},
   "source": [
    "3. Convert an integer to a string."
   ]
  },
  {
   "cell_type": "code",
   "execution_count": 5,
   "id": "aa67a28e-a492-47ac-9023-487b48e679bc",
   "metadata": {},
   "outputs": [
    {
     "name": "stdout",
     "output_type": "stream",
     "text": [
      "25\n",
      "<class 'str'>\n"
     ]
    }
   ],
   "source": [
    "num = 25\n",
    "string_num = str(num)\n",
    "print(string_num)\n",
    "print(type(string_num))"
   ]
  },
  {
   "cell_type": "markdown",
   "id": "31431c4e-4d3e-4f3b-8c75-c0f08b93e197",
   "metadata": {},
   "source": [
    "4. Convert a list to a tuple."
   ]
  },
  {
   "cell_type": "code",
   "execution_count": 8,
   "id": "a97b0412-2165-4c2b-ad2f-8c68c3500a5a",
   "metadata": {},
   "outputs": [
    {
     "name": "stdout",
     "output_type": "stream",
     "text": [
      "(1, 2, 3, 4)\n",
      "<class 'tuple'>\n"
     ]
    }
   ],
   "source": [
    "list_1 = [1,2,3,4]\n",
    "tup = tuple(list_1)\n",
    "print(tup)\n",
    "print(type(tup))"
   ]
  },
  {
   "cell_type": "markdown",
   "id": "b4d16b32-2618-4cf2-8ded-9bee91c1e20f",
   "metadata": {},
   "source": [
    "5. Convert a tuple to a list."
   ]
  },
  {
   "cell_type": "code",
   "execution_count": 9,
   "id": "04c928e1-359e-4474-9861-52dca56699fb",
   "metadata": {},
   "outputs": [
    {
     "name": "stdout",
     "output_type": "stream",
     "text": [
      "[1, 2, 3, 4]\n",
      "<class 'list'>\n"
     ]
    }
   ],
   "source": [
    "tupl = (1,2,3,4)\n",
    "lis = list(tupl)\n",
    "print(lis)\n",
    "print(type(lis))"
   ]
  },
  {
   "cell_type": "markdown",
   "id": "b1e2f885-8a7c-4662-9584-cd4c60006851",
   "metadata": {},
   "source": [
    "6 .Convert a decimal number to binary."
   ]
  },
  {
   "cell_type": "code",
   "execution_count": 14,
   "id": "2665c0d7-90e1-4c53-8594-e321b6a258c8",
   "metadata": {},
   "outputs": [
    {
     "name": "stdout",
     "output_type": "stream",
     "text": [
      "0b101\n"
     ]
    }
   ],
   "source": [
    "num = 5\n",
    "binary = bin(num)\n",
    "print(binary)\n"
   ]
  },
  {
   "cell_type": "markdown",
   "id": "52df6b78-e9ed-4352-a9e9-96e7b8629b30",
   "metadata": {},
   "source": [
    "7 .Convert a non-zero number to boolean."
   ]
  },
  {
   "cell_type": "code",
   "execution_count": 16,
   "id": "ee246621-3b83-43e0-882a-83fbb0457d3d",
   "metadata": {},
   "outputs": [
    {
     "name": "stdout",
     "output_type": "stream",
     "text": [
      "True\n"
     ]
    }
   ],
   "source": [
    "num = 20 \n",
    "boolean = bool(num)\n",
    "print(boolean)"
   ]
  },
  {
   "cell_type": "code",
   "execution_count": null,
   "id": "e0da10eb-c8bd-442a-ac5b-aa3aa77f7e6a",
   "metadata": {},
   "outputs": [],
   "source": []
  },
  {
   "cell_type": "code",
   "execution_count": null,
   "id": "0e246e46-4f7e-45cc-9f6b-36818eb271cd",
   "metadata": {},
   "outputs": [],
   "source": []
  }
 ],
 "metadata": {
  "kernelspec": {
   "display_name": "Python 3 (ipykernel)",
   "language": "python",
   "name": "python3"
  },
  "language_info": {
   "codemirror_mode": {
    "name": "ipython",
    "version": 3
   },
   "file_extension": ".py",
   "mimetype": "text/x-python",
   "name": "python",
   "nbconvert_exporter": "python",
   "pygments_lexer": "ipython3",
   "version": "3.12.8"
  }
 },
 "nbformat": 4,
 "nbformat_minor": 5
}
